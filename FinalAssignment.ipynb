{
 "cells": [
  {
   "cell_type": "markdown",
   "id": "952ad604-92f7-41a4-9565-c42dcd8ae546",
   "metadata": {},
   "source": [
    "# Data Science Tools and Ecosystem"
   ]
  },
  {
   "cell_type": "markdown",
   "id": "e5d05c2b-bc61-4573-9a01-df2436fc3cf8",
   "metadata": {},
   "source": [
    "In this notebook, Data Science Tools and Ecosystem are summarized"
   ]
  },
  {
   "cell_type": "markdown",
   "id": "9bd4ce90-df3a-426c-8f22-1d66bc0c4386",
   "metadata": {},
   "source": [
    "Objectives:\n",
    "- List popular languages\n",
    "- List popular libraries\n",
    "- List popular open source tools\n",
    "- Execute arithmetic expressions"
   ]
  },
  {
   "cell_type": "markdown",
   "id": "2e6208c4-7190-4e1e-be0f-947536a3d5ac",
   "metadata": {},
   "source": [
    "Some of the popular languages that Data Scientists use are:\n",
    "1. Python\n",
    "2. R\n",
    "3. SQL\n",
    "4. Java\n",
    "5. C++\n",
    "6. C"
   ]
  },
  {
   "cell_type": "markdown",
   "id": "b8ec7bcf-a213-4a38-83d6-fcf4c9aacb51",
   "metadata": {},
   "source": [
    "Some of the commonly used libraries used by Data Scientist include:\n",
    "1. Pandas\n",
    "2. NumPy\n",
    "3. Matplotlib\n",
    "4. Plotly\n",
    "5. Scikit\n",
    "6. TensorFlow"
   ]
  },
  {
   "cell_type": "markdown",
   "id": "fdb98be1-6624-427a-87db-62ef2e95d3a1",
   "metadata": {},
   "source": [
    "Data Science Tools\n",
    "| ----------------|\n",
    "| Jupyter Notebook |\n",
    "| RStudio |\n",
    "| Hadoop |\n",
    "| Apache Spark |"
   ]
  },
  {
   "cell_type": "markdown",
   "id": "79a136a6-5a1c-4b22-aee5-3d06585fddd8",
   "metadata": {},
   "source": [
    "### Below are a few examples of evaluating arithmetic expressions in Python"
   ]
  },
  {
   "cell_type": "markdown",
   "id": "8916d70b-b4cb-44dc-a60a-8638ceda13e5",
   "metadata": {},
   "source": [
    "This is a simple arithmetic expression to multiply the add integers"
   ]
  },
  {
   "cell_type": "code",
   "execution_count": 12,
   "id": "c82fab11-33b7-4e97-8a07-9d9adac478c0",
   "metadata": {},
   "outputs": [
    {
     "data": {
      "text/plain": [
       "17"
      ]
     },
     "execution_count": 12,
     "metadata": {},
     "output_type": "execute_result"
    }
   ],
   "source": [
    "(3*4)+5\n"
   ]
  },
  {
   "cell_type": "markdown",
   "id": "8ee142c1-3ff7-4b9d-a840-9af300dcb003",
   "metadata": {},
   "source": [
    "This will convert 200 minutes to hours by dividing by 60"
   ]
  },
  {
   "cell_type": "code",
   "execution_count": 23,
   "id": "af5d0e75-76e3-4072-9326-bfeb72c90a28",
   "metadata": {},
   "outputs": [
    {
     "name": "stdout",
     "output_type": "stream",
     "text": [
      "3.3333333333333335\n"
     ]
    }
   ],
   "source": [
    "minutes=200\n",
    "hours=minutes/60\n",
    "print(hours)"
   ]
  },
  {
   "cell_type": "markdown",
   "id": "63684fac-0409-404c-b91e-b06ba5acc536",
   "metadata": {},
   "source": [
    "## Author\n",
    "Robert"
   ]
  },
  {
   "cell_type": "code",
   "execution_count": null,
   "id": "f8574670-8deb-4cc0-9ddc-311b499ed3a7",
   "metadata": {},
   "outputs": [],
   "source": []
  }
 ],
 "metadata": {
  "kernelspec": {
   "display_name": "Python [conda env:RC_Env]",
   "language": "python",
   "name": "conda-env-RC_Env-py"
  },
  "language_info": {
   "codemirror_mode": {
    "name": "ipython",
    "version": 3
   },
   "file_extension": ".py",
   "mimetype": "text/x-python",
   "name": "python",
   "nbconvert_exporter": "python",
   "pygments_lexer": "ipython3",
   "version": "3.12.9"
  }
 },
 "nbformat": 4,
 "nbformat_minor": 5
}
